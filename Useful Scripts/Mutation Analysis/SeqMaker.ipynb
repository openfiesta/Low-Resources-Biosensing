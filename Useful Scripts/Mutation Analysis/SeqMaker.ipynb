{
 "cells": [
  {
   "cell_type": "code",
   "execution_count": 1,
   "metadata": {},
   "outputs": [],
   "source": [
    "INCLUDE_GAPS = True\n",
    "\n",
    "seq = []\n",
    "output = \"\"\n",
    "nc = 0\n",
    "b = 0\n",
    "\n",
    "if INCLUDE_GAPS:\n",
    "    g = 5\n",
    "else:\n",
    "    g = 4\n",
    "\n",
    "with open(\"nc_count.txt\", 'r') as infile:\n",
    "    line = infile.readline()\n",
    "    line = infile.readline().split('\\n')[0]\n",
    "    while line:\n",
    "        \n",
    "        line = line.split('\\t')\n",
    "        line = line[1:6]\n",
    "        \n",
    "        \n",
    "        for i in range(0,g):\n",
    "#                 The NC is the most represented and is represented in more than 10 seqs (So it's not an outlier)\n",
    "            if (float(line[i]) > b) and (float(line[i]) > 10.0): \n",
    "                b = float(line[i])\n",
    "                nc = i\n",
    "        \n",
    "        \n",
    "        if nc == 0:\n",
    "            seq.append(\"a\")\n",
    "        elif nc == 1:\n",
    "            seq.append(\"t\")\n",
    "        elif nc == 2:\n",
    "            seq.append(\"g\")\n",
    "        elif nc == 3:\n",
    "            seq.append(\"c\")\n",
    "        elif INCLUDE_GAPS and nc == 4:\n",
    "            seq.append(\"-\")\n",
    "                \n",
    "            \n",
    "        b = 0\n",
    "        nc = 5\n",
    "        line = infile.readline().split('\\n')[0]\n",
    "#         counter = counter + 1\n",
    "\n",
    "with open(\"consensusSeq.txt\", 'w') as outfile:\n",
    "    outfile.write(\">Consensus\\n\")\n",
    "    outfile.write(output.join(seq))\n",
    "        \n"
   ]
  }
 ],
 "metadata": {
  "kernelspec": {
   "display_name": "Python 3",
   "language": "python",
   "name": "python3"
  },
  "language_info": {
   "codemirror_mode": {
    "name": "ipython",
    "version": 3
   },
   "file_extension": ".py",
   "mimetype": "text/x-python",
   "name": "python",
   "nbconvert_exporter": "python",
   "pygments_lexer": "ipython3",
   "version": "3.7.7"
  }
 },
 "nbformat": 4,
 "nbformat_minor": 4
}
